{
 "cells": [
  {
   "cell_type": "code",
   "execution_count": 1,
   "metadata": {},
   "outputs": [],
   "source": [
    "import numpy as np\n",
    "import pandas as pd"
   ]
  },
  {
   "cell_type": "code",
   "execution_count": 3,
   "metadata": {},
   "outputs": [],
   "source": [
    "def cash_flow(C, r, n):\n",
    "    r += 1\n",
    "    return sum((C/(r**i) for i in range(1, n+1)))\n",
    "\n",
    "\n",
    "def rent(C, r, n, m=1, prepayment=False):\n",
    "    r = r/m\n",
    "    fv = C*((1+r)**(n*m) - 1) / r\n",
    "    if prepayment:\n",
    "        return fv*(r+1)\n",
    "    return fv\n",
    "\n",
    "def rent_payment(pv, r, n, m=1):\n",
    "    return np.round((pv*r/m) / (1 - (1+r/m)**(-n*m)), 2)\n",
    "\n",
    "\n",
    "def rent_pv(C, r, n, m=1, prepayment=False):\n",
    "    r = r/m\n",
    "    fv = C*(1 - (1+r)**(-n*m)) / r\n",
    "    if prepayment:\n",
    "        return fv*(r+1)\n",
    "    return fv\n",
    "\n"
   ]
  },
  {
   "cell_type": "code",
   "execution_count": 8,
   "metadata": {},
   "outputs": [
    {
     "data": {
      "text/plain": [
       "2389.13"
      ]
     },
     "execution_count": 8,
     "metadata": {},
     "output_type": "execute_result"
    }
   ],
   "source": [
    "rent_payment(250_000, .08, 15, 12)"
   ]
  },
  {
   "cell_type": "code",
   "execution_count": 3,
   "metadata": {},
   "outputs": [
    {
     "data": {
      "text/plain": [
       "2486.851990984222"
      ]
     },
     "execution_count": 3,
     "metadata": {},
     "output_type": "execute_result"
    }
   ],
   "source": [
    "cash_flow(1000, .1, 3)"
   ]
  },
  {
   "cell_type": "code",
   "execution_count": 7,
   "metadata": {},
   "outputs": [],
   "source": [
    "def amortization(pv, r, n, m=1):\n",
    "    C = rent_payment(pv, r, n, m)\n",
    "    print('\\tC\\t%\\t paym\\t   debt')\n",
    "    mon = 1\n",
    "    per_sum, red_sum, pv_sum = 0, 0, 0\n",
    "    while pv > 0:\n",
    "        per = np.round(pv * r / m, 2)\n",
    "        red = np.round((C - per), 2)\n",
    "        pv = np.round(pv-red, 2) if pv > C else 0\n",
    "        print(f'{mon:<3}: {C:<10}{per:<10}{red:<10}{pv:<10}')\n",
    "        per_sum+=per\n",
    "        red_sum+=red\n",
    "        pv_sum+=pv\n",
    "        mon+=1\n",
    "    print('--------------------------------------')\n",
    "    print(f'{mon-1:<3}: {C*(mon-1):<10}{np.round(per_sum, 2):<10}{np.round(red_sum):<10}')\n",
    "    \n",
    "    "
   ]
  },
  {
   "cell_type": "code",
   "execution_count": 8,
   "metadata": {},
   "outputs": [
    {
     "name": "stdout",
     "output_type": "stream",
     "text": [
      "\tC\t%\t paym\t   debt\n",
      "1  : 29207.39  20000.0   9207.39   240792.61 \n",
      "2  : 29207.39  19263.41  9943.98   230848.63 \n",
      "3  : 29207.39  18467.89  10739.5   220109.13 \n",
      "4  : 29207.39  17608.73  11598.66  208510.47 \n",
      "5  : 29207.39  16680.84  12526.55  195983.92 \n",
      "6  : 29207.39  15678.71  13528.68  182455.24 \n",
      "7  : 29207.39  14596.42  14610.97  167844.27 \n",
      "8  : 29207.39  13427.54  15779.85  152064.42 \n",
      "9  : 29207.39  12165.15  17042.24  135022.18 \n",
      "10 : 29207.39  10801.77  18405.62  116616.56 \n",
      "11 : 29207.39  9329.32   19878.07  96738.49  \n",
      "12 : 29207.39  7739.08   21468.31  75270.18  \n",
      "13 : 29207.39  6021.61   23185.78  52084.4   \n",
      "14 : 29207.39  4166.75   25040.64  27043.76  \n",
      "15 : 29207.39  2163.5    27043.89  0         \n",
      "--------------------------------------\n",
      "15 : 438110.85 188110.72 250000.0  \n"
     ]
    }
   ],
   "source": [
    "amortization(250_000, .08, 15)"
   ]
  }
 ],
 "metadata": {
  "kernelspec": {
   "display_name": "Python 3",
   "language": "python",
   "name": "python3"
  },
  "language_info": {
   "codemirror_mode": {
    "name": "ipython",
    "version": 3
   },
   "file_extension": ".py",
   "mimetype": "text/x-python",
   "name": "python",
   "nbconvert_exporter": "python",
   "pygments_lexer": "ipython3",
   "version": "3.8.5"
  }
 },
 "nbformat": 4,
 "nbformat_minor": 2
}
