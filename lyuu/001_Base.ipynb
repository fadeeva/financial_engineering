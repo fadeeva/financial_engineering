{
 "cells": [
  {
   "cell_type": "code",
   "execution_count": 1,
   "metadata": {},
   "outputs": [],
   "source": [
    "import numpy as np\n",
    "import pandas as pd"
   ]
  },
  {
   "cell_type": "code",
   "execution_count": 42,
   "metadata": {},
   "outputs": [],
   "source": [
    "def cash_flow(C, r, n):\n",
    "    r += 1\n",
    "    return sum((C/(r**i) for i in range(1, n+1)))\n",
    "\n",
    "def rent(C, r, n, m=1, prepayment=False):\n",
    "    r = r/m\n",
    "    fv = C*((1+r)**(n*m) - 1) / r\n",
    "    if prepayment:\n",
    "        return fv*(r+1)\n",
    "    return fv\n",
    "\n",
    "def rent_pv(C, r, n, m=1, prepayment=False):\n",
    "    r = r/m\n",
    "    fv = C*(1 - (1+r)**(-n*m)) / r\n",
    "    if prepayment:\n",
    "        return fv*(r+1)\n",
    "    return fv"
   ]
  },
  {
   "cell_type": "code",
   "execution_count": 43,
   "metadata": {},
   "outputs": [
    {
     "data": {
      "text/plain": [
       "2486.851990984222"
      ]
     },
     "execution_count": 43,
     "metadata": {},
     "output_type": "execute_result"
    }
   ],
   "source": [
    "cash_flow(1000, .1, 3)"
   ]
  },
  {
   "cell_type": "code",
   "execution_count": null,
   "metadata": {},
   "outputs": [],
   "source": []
  }
 ],
 "metadata": {
  "kernelspec": {
   "display_name": "Python 3",
   "language": "python",
   "name": "python3"
  },
  "language_info": {
   "codemirror_mode": {
    "name": "ipython",
    "version": 3
   },
   "file_extension": ".py",
   "mimetype": "text/x-python",
   "name": "python",
   "nbconvert_exporter": "python",
   "pygments_lexer": "ipython3",
   "version": "3.8.5"
  }
 },
 "nbformat": 4,
 "nbformat_minor": 2
}
